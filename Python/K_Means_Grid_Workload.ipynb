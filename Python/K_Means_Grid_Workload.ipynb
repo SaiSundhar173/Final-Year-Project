{
  "nbformat": 4,
  "nbformat_minor": 0,
  "metadata": {
    "colab": {
      "name": "K-Means-Grid Workload.ipynb",
      "provenance": [],
      "collapsed_sections": []
    },
    "kernelspec": {
      "name": "python3",
      "display_name": "Python 3"
    },
    "language_info": {
      "name": "python"
    }
  },
  "cells": [
    {
      "cell_type": "code",
      "metadata": {
        "colab": {
          "resources": {
            "http://localhost:8080/nbextensions/google.colab/files.js": {
              "data": "Ly8gQ29weXJpZ2h0IDIwMTcgR29vZ2xlIExMQwovLwovLyBMaWNlbnNlZCB1bmRlciB0aGUgQXBhY2hlIExpY2Vuc2UsIFZlcnNpb24gMi4wICh0aGUgIkxpY2Vuc2UiKTsKLy8geW91IG1heSBub3QgdXNlIHRoaXMgZmlsZSBleGNlcHQgaW4gY29tcGxpYW5jZSB3aXRoIHRoZSBMaWNlbnNlLgovLyBZb3UgbWF5IG9idGFpbiBhIGNvcHkgb2YgdGhlIExpY2Vuc2UgYXQKLy8KLy8gICAgICBodHRwOi8vd3d3LmFwYWNoZS5vcmcvbGljZW5zZXMvTElDRU5TRS0yLjAKLy8KLy8gVW5sZXNzIHJlcXVpcmVkIGJ5IGFwcGxpY2FibGUgbGF3IG9yIGFncmVlZCB0byBpbiB3cml0aW5nLCBzb2Z0d2FyZQovLyBkaXN0cmlidXRlZCB1bmRlciB0aGUgTGljZW5zZSBpcyBkaXN0cmlidXRlZCBvbiBhbiAiQVMgSVMiIEJBU0lTLAovLyBXSVRIT1VUIFdBUlJBTlRJRVMgT1IgQ09ORElUSU9OUyBPRiBBTlkgS0lORCwgZWl0aGVyIGV4cHJlc3Mgb3IgaW1wbGllZC4KLy8gU2VlIHRoZSBMaWNlbnNlIGZvciB0aGUgc3BlY2lmaWMgbGFuZ3VhZ2UgZ292ZXJuaW5nIHBlcm1pc3Npb25zIGFuZAovLyBsaW1pdGF0aW9ucyB1bmRlciB0aGUgTGljZW5zZS4KCi8qKgogKiBAZmlsZW92ZXJ2aWV3IEhlbHBlcnMgZm9yIGdvb2dsZS5jb2xhYiBQeXRob24gbW9kdWxlLgogKi8KKGZ1bmN0aW9uKHNjb3BlKSB7CmZ1bmN0aW9uIHNwYW4odGV4dCwgc3R5bGVBdHRyaWJ1dGVzID0ge30pIHsKICBjb25zdCBlbGVtZW50ID0gZG9jdW1lbnQuY3JlYXRlRWxlbWVudCgnc3BhbicpOwogIGVsZW1lbnQudGV4dENvbnRlbnQgPSB0ZXh0OwogIGZvciAoY29uc3Qga2V5IG9mIE9iamVjdC5rZXlzKHN0eWxlQXR0cmlidXRlcykpIHsKICAgIGVsZW1lbnQuc3R5bGVba2V5XSA9IHN0eWxlQXR0cmlidXRlc1trZXldOwogIH0KICByZXR1cm4gZWxlbWVudDsKfQoKLy8gTWF4IG51bWJlciBvZiBieXRlcyB3aGljaCB3aWxsIGJlIHVwbG9hZGVkIGF0IGEgdGltZS4KY29uc3QgTUFYX1BBWUxPQURfU0laRSA9IDEwMCAqIDEwMjQ7CgpmdW5jdGlvbiBfdXBsb2FkRmlsZXMoaW5wdXRJZCwgb3V0cHV0SWQpIHsKICBjb25zdCBzdGVwcyA9IHVwbG9hZEZpbGVzU3RlcChpbnB1dElkLCBvdXRwdXRJZCk7CiAgY29uc3Qgb3V0cHV0RWxlbWVudCA9IGRvY3VtZW50LmdldEVsZW1lbnRCeUlkKG91dHB1dElkKTsKICAvLyBDYWNoZSBzdGVwcyBvbiB0aGUgb3V0cHV0RWxlbWVudCB0byBtYWtlIGl0IGF2YWlsYWJsZSBmb3IgdGhlIG5leHQgY2FsbAogIC8vIHRvIHVwbG9hZEZpbGVzQ29udGludWUgZnJvbSBQeXRob24uCiAgb3V0cHV0RWxlbWVudC5zdGVwcyA9IHN0ZXBzOwoKICByZXR1cm4gX3VwbG9hZEZpbGVzQ29udGludWUob3V0cHV0SWQpOwp9CgovLyBUaGlzIGlzIHJvdWdobHkgYW4gYXN5bmMgZ2VuZXJhdG9yIChub3Qgc3VwcG9ydGVkIGluIHRoZSBicm93c2VyIHlldCksCi8vIHdoZXJlIHRoZXJlIGFyZSBtdWx0aXBsZSBhc3luY2hyb25vdXMgc3RlcHMgYW5kIHRoZSBQeXRob24gc2lkZSBpcyBnb2luZwovLyB0byBwb2xsIGZvciBjb21wbGV0aW9uIG9mIGVhY2ggc3RlcC4KLy8gVGhpcyB1c2VzIGEgUHJvbWlzZSB0byBibG9jayB0aGUgcHl0aG9uIHNpZGUgb24gY29tcGxldGlvbiBvZiBlYWNoIHN0ZXAsCi8vIHRoZW4gcGFzc2VzIHRoZSByZXN1bHQgb2YgdGhlIHByZXZpb3VzIHN0ZXAgYXMgdGhlIGlucHV0IHRvIHRoZSBuZXh0IHN0ZXAuCmZ1bmN0aW9uIF91cGxvYWRGaWxlc0NvbnRpbnVlKG91dHB1dElkKSB7CiAgY29uc3Qgb3V0cHV0RWxlbWVudCA9IGRvY3VtZW50LmdldEVsZW1lbnRCeUlkKG91dHB1dElkKTsKICBjb25zdCBzdGVwcyA9IG91dHB1dEVsZW1lbnQuc3RlcHM7CgogIGNvbnN0IG5leHQgPSBzdGVwcy5uZXh0KG91dHB1dEVsZW1lbnQubGFzdFByb21pc2VWYWx1ZSk7CiAgcmV0dXJuIFByb21pc2UucmVzb2x2ZShuZXh0LnZhbHVlLnByb21pc2UpLnRoZW4oKHZhbHVlKSA9PiB7CiAgICAvLyBDYWNoZSB0aGUgbGFzdCBwcm9taXNlIHZhbHVlIHRvIG1ha2UgaXQgYXZhaWxhYmxlIHRvIHRoZSBuZXh0CiAgICAvLyBzdGVwIG9mIHRoZSBnZW5lcmF0b3IuCiAgICBvdXRwdXRFbGVtZW50Lmxhc3RQcm9taXNlVmFsdWUgPSB2YWx1ZTsKICAgIHJldHVybiBuZXh0LnZhbHVlLnJlc3BvbnNlOwogIH0pOwp9CgovKioKICogR2VuZXJhdG9yIGZ1bmN0aW9uIHdoaWNoIGlzIGNhbGxlZCBiZXR3ZWVuIGVhY2ggYXN5bmMgc3RlcCBvZiB0aGUgdXBsb2FkCiAqIHByb2Nlc3MuCiAqIEBwYXJhbSB7c3RyaW5nfSBpbnB1dElkIEVsZW1lbnQgSUQgb2YgdGhlIGlucHV0IGZpbGUgcGlja2VyIGVsZW1lbnQuCiAqIEBwYXJhbSB7c3RyaW5nfSBvdXRwdXRJZCBFbGVtZW50IElEIG9mIHRoZSBvdXRwdXQgZGlzcGxheS4KICogQHJldHVybiB7IUl0ZXJhYmxlPCFPYmplY3Q+fSBJdGVyYWJsZSBvZiBuZXh0IHN0ZXBzLgogKi8KZnVuY3Rpb24qIHVwbG9hZEZpbGVzU3RlcChpbnB1dElkLCBvdXRwdXRJZCkgewogIGNvbnN0IGlucHV0RWxlbWVudCA9IGRvY3VtZW50LmdldEVsZW1lbnRCeUlkKGlucHV0SWQpOwogIGlucHV0RWxlbWVudC5kaXNhYmxlZCA9IGZhbHNlOwoKICBjb25zdCBvdXRwdXRFbGVtZW50ID0gZG9jdW1lbnQuZ2V0RWxlbWVudEJ5SWQob3V0cHV0SWQpOwogIG91dHB1dEVsZW1lbnQuaW5uZXJIVE1MID0gJyc7CgogIGNvbnN0IHBpY2tlZFByb21pc2UgPSBuZXcgUHJvbWlzZSgocmVzb2x2ZSkgPT4gewogICAgaW5wdXRFbGVtZW50LmFkZEV2ZW50TGlzdGVuZXIoJ2NoYW5nZScsIChlKSA9PiB7CiAgICAgIHJlc29sdmUoZS50YXJnZXQuZmlsZXMpOwogICAgfSk7CiAgfSk7CgogIGNvbnN0IGNhbmNlbCA9IGRvY3VtZW50LmNyZWF0ZUVsZW1lbnQoJ2J1dHRvbicpOwogIGlucHV0RWxlbWVudC5wYXJlbnRFbGVtZW50LmFwcGVuZENoaWxkKGNhbmNlbCk7CiAgY2FuY2VsLnRleHRDb250ZW50ID0gJ0NhbmNlbCB1cGxvYWQnOwogIGNvbnN0IGNhbmNlbFByb21pc2UgPSBuZXcgUHJvbWlzZSgocmVzb2x2ZSkgPT4gewogICAgY2FuY2VsLm9uY2xpY2sgPSAoKSA9PiB7CiAgICAgIHJlc29sdmUobnVsbCk7CiAgICB9OwogIH0pOwoKICAvLyBXYWl0IGZvciB0aGUgdXNlciB0byBwaWNrIHRoZSBmaWxlcy4KICBjb25zdCBmaWxlcyA9IHlpZWxkIHsKICAgIHByb21pc2U6IFByb21pc2UucmFjZShbcGlja2VkUHJvbWlzZSwgY2FuY2VsUHJvbWlzZV0pLAogICAgcmVzcG9uc2U6IHsKICAgICAgYWN0aW9uOiAnc3RhcnRpbmcnLAogICAgfQogIH07CgogIGNhbmNlbC5yZW1vdmUoKTsKCiAgLy8gRGlzYWJsZSB0aGUgaW5wdXQgZWxlbWVudCBzaW5jZSBmdXJ0aGVyIHBpY2tzIGFyZSBub3QgYWxsb3dlZC4KICBpbnB1dEVsZW1lbnQuZGlzYWJsZWQgPSB0cnVlOwoKICBpZiAoIWZpbGVzKSB7CiAgICByZXR1cm4gewogICAgICByZXNwb25zZTogewogICAgICAgIGFjdGlvbjogJ2NvbXBsZXRlJywKICAgICAgfQogICAgfTsKICB9CgogIGZvciAoY29uc3QgZmlsZSBvZiBmaWxlcykgewogICAgY29uc3QgbGkgPSBkb2N1bWVudC5jcmVhdGVFbGVtZW50KCdsaScpOwogICAgbGkuYXBwZW5kKHNwYW4oZmlsZS5uYW1lLCB7Zm9udFdlaWdodDogJ2JvbGQnfSkpOwogICAgbGkuYXBwZW5kKHNwYW4oCiAgICAgICAgYCgke2ZpbGUudHlwZSB8fCAnbi9hJ30pIC0gJHtmaWxlLnNpemV9IGJ5dGVzLCBgICsKICAgICAgICBgbGFzdCBtb2RpZmllZDogJHsKICAgICAgICAgICAgZmlsZS5sYXN0TW9kaWZpZWREYXRlID8gZmlsZS5sYXN0TW9kaWZpZWREYXRlLnRvTG9jYWxlRGF0ZVN0cmluZygpIDoKICAgICAgICAgICAgICAgICAgICAgICAgICAgICAgICAgICAgJ24vYSd9IC0gYCkpOwogICAgY29uc3QgcGVyY2VudCA9IHNwYW4oJzAlIGRvbmUnKTsKICAgIGxpLmFwcGVuZENoaWxkKHBlcmNlbnQpOwoKICAgIG91dHB1dEVsZW1lbnQuYXBwZW5kQ2hpbGQobGkpOwoKICAgIGNvbnN0IGZpbGVEYXRhUHJvbWlzZSA9IG5ldyBQcm9taXNlKChyZXNvbHZlKSA9PiB7CiAgICAgIGNvbnN0IHJlYWRlciA9IG5ldyBGaWxlUmVhZGVyKCk7CiAgICAgIHJlYWRlci5vbmxvYWQgPSAoZSkgPT4gewogICAgICAgIHJlc29sdmUoZS50YXJnZXQucmVzdWx0KTsKICAgICAgfTsKICAgICAgcmVhZGVyLnJlYWRBc0FycmF5QnVmZmVyKGZpbGUpOwogICAgfSk7CiAgICAvLyBXYWl0IGZvciB0aGUgZGF0YSB0byBiZSByZWFkeS4KICAgIGxldCBmaWxlRGF0YSA9IHlpZWxkIHsKICAgICAgcHJvbWlzZTogZmlsZURhdGFQcm9taXNlLAogICAgICByZXNwb25zZTogewogICAgICAgIGFjdGlvbjogJ2NvbnRpbnVlJywKICAgICAgfQogICAgfTsKCiAgICAvLyBVc2UgYSBjaHVua2VkIHNlbmRpbmcgdG8gYXZvaWQgbWVzc2FnZSBzaXplIGxpbWl0cy4gU2VlIGIvNjIxMTU2NjAuCiAgICBsZXQgcG9zaXRpb24gPSAwOwogICAgd2hpbGUgKHBvc2l0aW9uIDwgZmlsZURhdGEuYnl0ZUxlbmd0aCkgewogICAgICBjb25zdCBsZW5ndGggPSBNYXRoLm1pbihmaWxlRGF0YS5ieXRlTGVuZ3RoIC0gcG9zaXRpb24sIE1BWF9QQVlMT0FEX1NJWkUpOwogICAgICBjb25zdCBjaHVuayA9IG5ldyBVaW50OEFycmF5KGZpbGVEYXRhLCBwb3NpdGlvbiwgbGVuZ3RoKTsKICAgICAgcG9zaXRpb24gKz0gbGVuZ3RoOwoKICAgICAgY29uc3QgYmFzZTY0ID0gYnRvYShTdHJpbmcuZnJvbUNoYXJDb2RlLmFwcGx5KG51bGwsIGNodW5rKSk7CiAgICAgIHlpZWxkIHsKICAgICAgICByZXNwb25zZTogewogICAgICAgICAgYWN0aW9uOiAnYXBwZW5kJywKICAgICAgICAgIGZpbGU6IGZpbGUubmFtZSwKICAgICAgICAgIGRhdGE6IGJhc2U2NCwKICAgICAgICB9LAogICAgICB9OwogICAgICBwZXJjZW50LnRleHRDb250ZW50ID0KICAgICAgICAgIGAke01hdGgucm91bmQoKHBvc2l0aW9uIC8gZmlsZURhdGEuYnl0ZUxlbmd0aCkgKiAxMDApfSUgZG9uZWA7CiAgICB9CiAgfQoKICAvLyBBbGwgZG9uZS4KICB5aWVsZCB7CiAgICByZXNwb25zZTogewogICAgICBhY3Rpb246ICdjb21wbGV0ZScsCiAgICB9CiAgfTsKfQoKc2NvcGUuZ29vZ2xlID0gc2NvcGUuZ29vZ2xlIHx8IHt9OwpzY29wZS5nb29nbGUuY29sYWIgPSBzY29wZS5nb29nbGUuY29sYWIgfHwge307CnNjb3BlLmdvb2dsZS5jb2xhYi5fZmlsZXMgPSB7CiAgX3VwbG9hZEZpbGVzLAogIF91cGxvYWRGaWxlc0NvbnRpbnVlLAp9Owp9KShzZWxmKTsK",
              "ok": true,
              "headers": [
                [
                  "content-type",
                  "application/javascript"
                ]
              ],
              "status": 200,
              "status_text": ""
            }
          },
          "base_uri": "https://localhost:8080/",
          "height": 72
        },
        "id": "x9uGbjSpmvJ9",
        "outputId": "b7ad9a04-d078-495b-fdfc-2d5f842d2775"
      },
      "source": [
        "from google.colab import files\n",
        "uploaded = files.upload()"
      ],
      "execution_count": null,
      "outputs": [
        {
          "output_type": "display_data",
          "data": {
            "text/html": [
              "\n",
              "     <input type=\"file\" id=\"files-8ac3e129-4b5d-46a5-8241-34088236a2e6\" name=\"files[]\" multiple disabled\n",
              "        style=\"border:none\" />\n",
              "     <output id=\"result-8ac3e129-4b5d-46a5-8241-34088236a2e6\">\n",
              "      Upload widget is only available when the cell has been executed in the\n",
              "      current browser session. Please rerun this cell to enable.\n",
              "      </output>\n",
              "      <script src=\"/nbextensions/google.colab/files.js\"></script> "
            ],
            "text/plain": [
              "<IPython.core.display.HTML object>"
            ]
          },
          "metadata": {
            "tags": []
          }
        },
        {
          "output_type": "stream",
          "text": [
            "Saving 1.csv to 1.csv\n"
          ],
          "name": "stdout"
        }
      ]
    },
    {
      "cell_type": "code",
      "metadata": {
        "id": "wUisIz6InDfZ"
      },
      "source": [
        "import pandas as pd\n",
        "import numpy as np\n",
        "from sklearn.cluster import KMeans"
      ],
      "execution_count": null,
      "outputs": []
    },
    {
      "cell_type": "code",
      "metadata": {
        "colab": {
          "base_uri": "https://localhost:8080/"
        },
        "id": "ewdI5sOBogzc",
        "outputId": "7210c342-2cf6-4a4b-9dee-773d305a74b5"
      },
      "source": [
        "name=['timestamp','cpu cores','cpu capacity provisioned','cpu usage','cpu usage percent','memory capacity provisioned','memory usage','disk read throughput','disk write throughput','network received throughput','network transmitted throughput']\n",
        "df=pd.read_csv('1.csv',sep=';\\t',names=name)"
      ],
      "execution_count": null,
      "outputs": [
        {
          "output_type": "stream",
          "text": [
            "/usr/local/lib/python3.7/dist-packages/ipykernel_launcher.py:2: ParserWarning: Falling back to the 'python' engine because the 'c' engine does not support regex separators (separators > 1 char and different from '\\s+' are interpreted as regex); you can avoid this warning by specifying engine='python'.\n",
            "  \n"
          ],
          "name": "stderr"
        }
      ]
    },
    {
      "cell_type": "code",
      "metadata": {
        "colab": {
          "base_uri": "https://localhost:8080/"
        },
        "id": "Wbje0P6RCQgF",
        "outputId": "1cf03427-28d2-460a-b331-e5bf608fa2e0"
      },
      "source": [
        "for i in range(0,len(df)):\n",
        "  temp = df['timestamp'][i]\n",
        "  temp_str = temp[1:len(temp)]\n",
        "  temp_num = int(temp_str)\n",
        "  df['timestamp'][i] = temp_num\n"
      ],
      "execution_count": null,
      "outputs": [
        {
          "output_type": "stream",
          "text": [
            "/usr/local/lib/python3.7/dist-packages/ipykernel_launcher.py:5: SettingWithCopyWarning: \n",
            "A value is trying to be set on a copy of a slice from a DataFrame\n",
            "\n",
            "See the caveats in the documentation: https://pandas.pydata.org/pandas-docs/stable/user_guide/indexing.html#returning-a-view-versus-a-copy\n",
            "  \"\"\"\n"
          ],
          "name": "stderr"
        }
      ]
    },
    {
      "cell_type": "code",
      "metadata": {
        "colab": {
          "base_uri": "https://localhost:8080/"
        },
        "id": "a_DBXNLPDRm6",
        "outputId": "99288afc-dcd0-4c2d-baca-5fbb8787ada3"
      },
      "source": [
        "for i in range(0,len(df)):\n",
        "  temp = df['network transmitted throughput'][i]\n",
        "  temp_str = temp[0:len(temp)-1]\n",
        "  temp_num = float(temp_str)\n",
        "  df['network transmitted throughput'][i] = temp_num\n"
      ],
      "execution_count": null,
      "outputs": [
        {
          "output_type": "stream",
          "text": [
            "/usr/local/lib/python3.7/dist-packages/ipykernel_launcher.py:5: SettingWithCopyWarning: \n",
            "A value is trying to be set on a copy of a slice from a DataFrame\n",
            "\n",
            "See the caveats in the documentation: https://pandas.pydata.org/pandas-docs/stable/user_guide/indexing.html#returning-a-view-versus-a-copy\n",
            "  \"\"\"\n"
          ],
          "name": "stderr"
        }
      ]
    },
    {
      "cell_type": "code",
      "metadata": {
        "id": "qchIgwP7LjR4"
      },
      "source": [
        "dataset=df.to_numpy()"
      ],
      "execution_count": null,
      "outputs": []
    },
    {
      "cell_type": "code",
      "metadata": {
        "id": "zLJozOVTSFhM"
      },
      "source": [
        "X=[]\n",
        "y=[]\n",
        "pivot = 0.8*len(dataset)\n",
        "for i in range(0,len(dataset)):\n",
        "  if i<pivot:\n",
        "    X.append(dataset[i])\n",
        "  else:\n",
        "    y.append(dataset[i])"
      ],
      "execution_count": null,
      "outputs": []
    },
    {
      "cell_type": "code",
      "metadata": {
        "colab": {
          "base_uri": "https://localhost:8080/"
        },
        "id": "RouX8YVATUJ8",
        "outputId": "62daf971-733e-4029-9c9c-2e65b52d74a3"
      },
      "source": [
        "kmeans=KMeans(n_clusters=4, random_state=0).fit(X)\n",
        "label=kmeans.labels_\n",
        "\n",
        "print(label)"
      ],
      "execution_count": null,
      "outputs": [
        {
          "output_type": "stream",
          "text": [
            "[3 3 3 ... 2 2 2]\n"
          ],
          "name": "stdout"
        }
      ]
    },
    {
      "cell_type": "code",
      "metadata": {
        "colab": {
          "base_uri": "https://localhost:8080/"
        },
        "id": "k4QNCiNhTYJW",
        "outputId": "cf500b1b-1096-4fc3-8e8b-3b39d59f7df3"
      },
      "source": [
        "predicted=kmeans.predict(y)\n",
        "print(predicted)"
      ],
      "execution_count": null,
      "outputs": [
        {
          "output_type": "stream",
          "text": [
            "[2 2 2 ... 2 2 2]\n"
          ],
          "name": "stdout"
        }
      ]
    },
    {
      "cell_type": "code",
      "metadata": {
        "colab": {
          "base_uri": "https://localhost:8080/"
        },
        "id": "GbabiGX-TZ5h",
        "outputId": "912c7fb0-72bc-40ff-aac8-1d3b53ab7dc2"
      },
      "source": [
        "print(\"Four Different Centroids\")\n",
        "kmeans.cluster_centers_"
      ],
      "execution_count": null,
      "outputs": [
        {
          "output_type": "stream",
          "text": [
            "Four Different Centroids\n"
          ],
          "name": "stdout"
        },
        {
          "output_type": "execute_result",
          "data": {
            "text/plain": [
              "array([[1.37685339e+09, 4.00000000e+00, 1.17039982e+04, 9.37467375e+01,\n",
              "        8.00980447e-01, 6.71088640e+07, 4.02176835e+04, 1.56925802e+00,\n",
              "        5.78706080e+00, 1.68793160e+00, 1.09616469e+00],\n",
              "       [1.37677187e+09, 4.00000000e+00, 1.17039982e+04, 9.24974147e+03,\n",
              "        7.90306122e+01, 6.71088640e+07, 1.78536949e+07, 5.67074830e+00,\n",
              "        7.89819728e+03, 2.92156463e+02, 3.52231293e+01],\n",
              "       [1.37787052e+09, 4.00000000e+00, 1.17039982e+04, 9.22345937e+01,\n",
              "        7.88060557e-01, 6.71088640e+07, 3.80828454e+04, 1.61773302e+00,\n",
              "        7.60023287e+00, 2.51828876e+00, 1.09710160e+00],\n",
              "       [1.37696804e+09, 4.00000000e+00, 1.17039982e+04, 9.91339957e+03,\n",
              "        8.47009660e+01, 6.71088640e+07, 7.79712075e+06, 3.26955504e+00,\n",
              "        1.06102693e+04, 5.83808743e+01, 2.94918813e+01]])"
            ]
          },
          "metadata": {
            "tags": []
          },
          "execution_count": 10
        }
      ]
    },
    {
      "cell_type": "code",
      "metadata": {
        "id": "KWu8p36g4FC_"
      },
      "source": [
        "data_points = {}\n",
        "for i in range(kmeans.n_clusters):\n",
        "  temp = np.where(kmeans.labels_ == i)\n",
        "  arr = temp[0]\n",
        "  cluster=[]\n",
        "  \n",
        "  for j in range(0, len(arr)):\n",
        "    cluster.append( X[arr[j]])\n",
        "  data_points[i] = cluster"
      ],
      "execution_count": null,
      "outputs": []
    },
    {
      "cell_type": "code",
      "metadata": {
        "colab": {
          "base_uri": "https://localhost:8080/"
        },
        "id": "9ZU1DKTO25OK",
        "outputId": "5da48d2a-8a8d-41e1-acd7-de5f2ec2a066"
      },
      "source": [
        "print(data_points[1])"
      ],
      "execution_count": null,
      "outputs": [
        {
          "output_type": "stream",
          "text": [
            "[array([1376315746, 4, 11703.99824, 10539.450415120002, 90.05, 67108864.0,\n",
            "       18790479.466666665, 5.466666666666668, 8791.8, 349.66666666666674,\n",
            "       5.466666666666667], dtype=object), array([1376317246, 4, 11703.99824, 10477.029091173334, 89.51666666666668,\n",
            "       67108864.0, 20937962.933333334, 0.0, 1.4, 235.53333333333333,\n",
            "       3.8666666666666667], dtype=object), array([1376398853, 4, 11703.99824, 10531.647749626667, 89.98333333333332,\n",
            "       67108864.0, 22951228.53333333, 0.0, 4710.466666666666, 642.8,\n",
            "       7.666666666666667], dtype=object), array([1376399153, 4, 11703.99824, 11056.377004053333, 94.46666666666664,\n",
            "       67108864.0, 14450773.6, 0.06666666666666668, 8199.0, 0.0,\n",
            "       1.5333333333333334], dtype=object), array([1376400053, 4, 11703.99824, 10129.81047672, 86.55, 67108864.0,\n",
            "       14629730.133333333, 2.533333333333333, 10979.8, 716.9333333333333,\n",
            "       11.066666666666666], dtype=object), array([1376400353, 4, 11703.99824, 11042.72233944, 94.35, 67108864.0,\n",
            "       18701001.066666666, 0.0, 8839.6, 1.4666666666666666,\n",
            "       1.5333333333333334], dtype=object), array([1376401553, 4, 11703.99824, 10356.087776026667, 88.48333333333332,\n",
            "       67108864.0, 22772272.0, 2.533333333333333, 7982.4, 888.6,\n",
            "       11.066666666666666], dtype=object), array([1376401853, 4, 11703.99824, 11073.933001413336, 94.61666666666666,\n",
            "       67108864.0, 15300818.666666664, 0.06666666666666668, 8233.2, 0.0,\n",
            "       1.5333333333333334], dtype=object), array([1376402753, 4, 11703.99824, 10194.18246704, 87.1, 67108864.0,\n",
            "       13869163.466666667, 2.6, 12471.6, 713.0, 10.933333333333334],\n",
            "      dtype=object), array([1376403053, 4, 11703.99824, 11085.636999653336, 94.71666666666664,\n",
            "       67108864.0, 24785540.266666666, 0.06666666666666668, 8676.2, 5.4,\n",
            "       1.6], dtype=object), array([1376409954, 4, 11703.99824, 10211.7384644, 87.25, 67108864.0,\n",
            "       18387826.4, 2.533333333333333, 11860.6, 718.5333333333333,\n",
            "       19.466666666666665], dtype=object), array([1376410254, 4, 11703.99824, 11103.192997013333, 94.86666666666666,\n",
            "       67108864.0, 19506307.466666665, 0.0, 6218.666666666668, 0.0, 1.4],\n",
            "      dtype=object), array([1376411454, 4, 11703.99824, 10424.361099093334, 89.06666666666666,\n",
            "       67108864.0, 22056444.53333333, 2.533333333333333,\n",
            "       8906.733333333334, 718.4, 10.066666666666666], dtype=object), array([1376411754, 4, 11703.99824, 11128.551659866667, 95.08333333333334,\n",
            "       67108864.0, 14674469.866666667, 0.06666666666666668, 6572.4, 0.0,\n",
            "       1.4], dtype=object), array([1376412954, 4, 11703.99824, 10843.754369360002, 92.65, 67108864.0,\n",
            "       27469893.86666667, 0.0, 6685.466666666666, 339.6666666666667,\n",
            "       4.933333333333334], dtype=object), array([1376413255, 4, 11703.99824, 11101.24233064, 94.85, 67108864.0,\n",
            "       13063856.8, 32.86666666666667, 6592.133333333332, 0.0, 1.6],\n",
            "      dtype=object), array([1376414155, 4, 11703.99824, 10122.007811226667, 86.48333333333332,\n",
            "       67108864.0, 16106125.6, 2.533333333333333, 11629.466666666667,\n",
            "       715.0, 19.6], dtype=object), array([1376414455, 4, 11703.99824, 11114.896995253332, 94.96666666666664,\n",
            "       67108864.0, 21295877.6, 0.0, 8644.933333333332, 3.4,\n",
            "       1.5333333333333334], dtype=object), array([1376415655, 4, 11703.99824, 10289.765119333333, 87.91666666666666,\n",
            "       67108864.0, 18745740.53333333, 2.533333333333333,\n",
            "       10814.933333333332, 718.5333333333333, 18.866666666666667],\n",
            "      dtype=object), array([1376415955, 4, 11703.99824, 11134.403658986668, 95.13333333333334,\n",
            "       67108864.0, 16687735.733333332, 0.06666666666666668,\n",
            "       7585.666666666668, 0.0, 1.5333333333333334], dtype=object), array([1376417155, 4, 11703.99824, 10205.886465280002, 87.2, 67108864.0,\n",
            "       21832748.0, 2.533333333333333, 7655.733333333334,\n",
            "       718.4666666666667, 9.933333333333334], dtype=object), array([1376417455, 4, 11703.99824, 11128.551659866667, 95.08333333333334,\n",
            "       67108864.0, 13466510.133333333, 0.06666666666666668,\n",
            "       7037.666666666668, 0.0, 1.5333333333333334], dtype=object), array([1376418655, 4, 11703.99824, 10906.175693306666, 93.18333333333334,\n",
            "       67108864.0, 20624788.266666666, 0.0, 6654.2, 249.4,\n",
            "       4.533333333333333], dtype=object), array([1376420155, 4, 11703.99824, 11079.785000533333, 94.66666666666666,\n",
            "       67108864.0, 19103655.466666665, 0.0, 6776.466666666666, 10.2,\n",
            "       1.4666666666666666], dtype=object), array([1376421355, 4, 11703.99824, 9965.954501360002, 85.15, 67108864.0,\n",
            "       16866692.266666666, 2.533333333333333, 10848.0, 881.9333333333333,\n",
            "       20.6], dtype=object), array([1376421655, 4, 11703.99824, 10964.695684506667, 93.68333333333334,\n",
            "       67108864.0, 17940434.4, 136.8, 14069.6, 3.6666666666666665,\n",
            "       1.5333333333333334], dtype=object), array([1376423156, 4, 11703.99824, 10861.31036672, 92.8, 67108864.0,\n",
            "       24114450.13333333, 2.8666666666666667, 13321.933333333332, 39.4,\n",
            "       3.1333333333333333], dtype=object), array([1376424656, 4, 11703.99824, 185.3133054666667, 1.5833333333333337,\n",
            "       67108864.0, 19193133.6, 0.0, 1.3333333333333333, 0.0, 1.0],\n",
            "      dtype=object), array([1376460059, 4, 11703.99824, 10207.837131653332, 87.21666666666665,\n",
            "       67108864.0, 13153334.933333335, 2.533333333333333,\n",
            "       10190.933333333332, 715.0, 19.466666666666665], dtype=object), array([1376460359, 4, 11703.99824, 11042.72233944, 94.35, 67108864.0,\n",
            "       18208870.133333333, 0.0, 8806.4, 3.4, 1.6], dtype=object), array([1376461558, 4, 11703.99824, 10465.325092933334, 89.41666666666666,\n",
            "       67108864.0, 23443360.8, 2.533333333333333, 4715.4,\n",
            "       717.6666666666665, 8.4], dtype=object), array([1376461858, 4, 11703.99824, 11040.771673066667, 94.33333333333334,\n",
            "       67108864.0, 14853426.4, 0.06666666666666668, 8210.466666666667,\n",
            "       0.0, 1.5333333333333334], dtype=object), array([1376462758, 4, 11703.99824, 10233.195794506668, 87.43333333333334,\n",
            "       67108864.0, 16106125.6, 2.533333333333333, 12426.533333333333,\n",
            "       888.6666666666665, 20.333333333333332], dtype=object), array([1376463059, 4, 11703.99824, 11075.88366778667, 94.63333333333334,\n",
            "       67108864.0, 18387826.933333334, 0.0, 6374.8, 0.0, 1.4],\n",
            "      dtype=object), array([1376464259, 4, 11703.99824, 10679.898394000002, 91.25, 67108864.0,\n",
            "       19908960.8, 0.0, 6504.0, 395.2, 5.533333333333333], dtype=object), array([1376465459, 4, 11703.99824, 10244.899792746668, 87.53333333333335,\n",
            "       67108864.0, 16821952.8, 2.533333333333333, 12506.466666666667,\n",
            "       877.6666666666665, 20.266666666666666], dtype=object), array([1376465759, 4, 11703.99824, 11097.340997893332, 94.81666666666666,\n",
            "       67108864.0, 19506306.933333334, 0.06666666666666668, 7409.6, 0.0,\n",
            "       1.5333333333333334], dtype=object), array([1376466959, 4, 11703.99824, 10652.589064773332, 91.01666666666668,\n",
            "       67108864.0, 21295877.066666666, 0.0, 6380.666666666668,\n",
            "       243.06666666666663, 4.6], dtype=object), array([1376468159, 4, 11703.99824, 5807.1337934133335, 49.61666666666667,\n",
            "       67108864.0, 15256080.0, 36.93333333333333, 9326.666666666666,\n",
            "       0.7333333333333333, 12.4], dtype=object), array([1376468459, 4, 11703.99824, 87.7799868, 0.75, 67108864.0,\n",
            "       14361295.2, 0.0, 2.0, 0.0, 1.0], dtype=object), array([1378207731, 4, 11703.99824, 5676.439146400001, 48.5, 67108864.0,\n",
            "       16598257.066666665, 0.0, 11127.733333333335, 0.7333333333333333,\n",
            "       12.4], dtype=object), array([1378208031, 4, 11703.99824, 83.87865405333334, 0.7166666666666667,\n",
            "       67108864.0, 13153335.733333332, 0.0, 0.6666666666666666, 0.0, 1.0],\n",
            "      dtype=object), array([1378216731, 4, 11703.99824, 87.7799868, 0.75, 67108864.0,\n",
            "       13734945.066666665, 0.0, 0.7333333333333333, 0.0, 1.0],\n",
            "      dtype=object), array([1378374247, 4, 11703.99824, 10082.99448376, 86.15, 67108864.0,\n",
            "       15166601.066666665, 2.6, 11991.133333333333, 894.3333333333335,\n",
            "       30.8], dtype=object), array([1378374547, 4, 11703.99824, 10972.49835, 93.75, 67108864.0,\n",
            "       15792950.666666664, 17.0, 13514.133333333333, 3.8,\n",
            "       1.5333333333333334], dtype=object), array([1378378148, 4, 11703.99824, 3446.827481680001, 29.45, 67108864.0,\n",
            "       14227077.6, 0.0, 14.266666666666667, 3.333333333333333,\n",
            "       526.5333333333333], dtype=object), array([1378384749, 4, 11703.99824, 83.87865405333334, 0.7166666666666667,\n",
            "       67108864.0, 14361294.4, 0.0, 0.9333333333333332, 0.0, 1.0],\n",
            "      dtype=object), array([1378386849, 4, 11703.99824, 9967.905167733334, 85.16666666666666,\n",
            "       67108864.0, 14361295.466666667, 2.533333333333333,\n",
            "       13879.733333333335, 893.6666666666665, 839.5333333333333],\n",
            "      dtype=object), array([1378387149, 4, 11703.99824, 10941.287688026667, 93.48333333333332,\n",
            "       67108864.0, 17806217.066666666, 7.2666666666666675, 12867.0, 8.4,\n",
            "       33.666666666666664], dtype=object)]\n"
          ],
          "name": "stdout"
        }
      ]
    }
  ]
}